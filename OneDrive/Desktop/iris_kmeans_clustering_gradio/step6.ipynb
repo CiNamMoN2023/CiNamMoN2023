{
 "cells": [
  {
   "cell_type": "markdown",
   "metadata": {},
   "source": [
    "# 데이터 입력필드의 Row를 Column으로 감싸기-> 인덱스 표시"
   ]
  },
  {
   "cell_type": "code",
   "execution_count": null,
   "metadata": {},
   "outputs": [
    {
     "name": "stderr",
     "output_type": "stream",
     "text": [
      "c:\\Users\\USER\\AppData\\Local\\Programs\\Python\\Python312\\Lib\\site-packages\\gradio\\utils.py:980: UserWarning: Expected 1 arguments for function <function click_delete at 0x00000274550F85E0>, received 0.\n",
      "  warnings.warn(\n",
      "c:\\Users\\USER\\AppData\\Local\\Programs\\Python\\Python312\\Lib\\site-packages\\gradio\\utils.py:984: UserWarning: Expected at least 1 arguments for function <function click_delete at 0x00000274550F85E0>, received 0.\n",
      "  warnings.warn(\n"
     ]
    },
    {
     "name": "stdout",
     "output_type": "stream",
     "text": [
      "* Running on local URL:  http://127.0.0.1:7860\n",
      "\n",
      "To create a public link, set `share=True` in `launch()`.\n"
     ]
    },
    {
     "data": {
      "text/html": [
       "<div><iframe src=\"http://127.0.0.1:7860/\" width=\"100%\" height=\"500\" allow=\"autoplay; camera; microphone; clipboard-read; clipboard-write;\" frameborder=\"0\" allowfullscreen></iframe></div>"
      ],
      "text/plain": [
       "<IPython.core.display.HTML object>"
      ]
     },
     "metadata": {},
     "output_type": "display_data"
    },
    {
     "name": "stdout",
     "output_type": "stream",
     "text": [
      "2\n"
     ]
    }
   ],
   "source": [
    "import gradio as gr\n",
    "\n",
    "with gr.Blocks() as demo:\n",
    "\n",
    "    view_count = gr.State(1)#플러스 버튼을 눌렀을 떄, view_count실행\n",
    "    #Define event listener\n",
    "    def click_add(count):\n",
    "        count+=1\n",
    "        print(count)\n",
    "        return count\n",
    "        \n",
    "    def click_delete(count):\n",
    "        print(count)\n",
    "        return count  \n",
    "    \n",
    "    def click_send():\n",
    "        print(\"send!\")\n",
    "\n",
    "\n",
    "    gr.Markdown(\" ### Iris prediction\")\n",
    "\n",
    "    with gr.Row():\n",
    "        add_button = gr.Button(\"+\")\n",
    "        delete_button = gr.Button(\"-\")\n",
    "\n",
    "    \n",
    "    #Add Input data field - component를 raw형식으로 추가'\n",
    "    with gr.Column():\n",
    "        @gr.render(inputs = [view_count])\n",
    "        def render_input_components(count):\n",
    "            for i in range(0, count):\n",
    "                #row index\n",
    "                with gr.Column():\n",
    "                    \n",
    "                    gr.Markdown(f\"Index:{i}\")\n",
    "                    with gr.Row():\n",
    "                        sepal_length_number = gr.Number(label = \"Sepal_length\",key = f\"sepal_length_{i}\", value=\"\")#key값도 지정\n",
    "                        sepal_width_number = gr.Number(label = \"Sepal_width\",key = f\"sepal_width_{i}\", value = \"\")\n",
    "                        petal_length_number = gr.Number(label = \"Petal_length_number\",key = f\"petal_length_{i}\",value = \"\")\n",
    "                        petal_width_number = gr.Number(label = \"Petal_width_number\",key = f\"petal_width_{i}\", value = \"\")\n",
    "\n",
    "\n",
    "    send_button = gr.Button(\"Send\")\n",
    "\n",
    "    add_button.click(fn=click_add,inputs=[view_count],outputs=[view_count])\n",
    "    delete_button.click(fn = click_delete,inputs=[],outputs=[])\n",
    "    send_button.click(fn=click_send,inputs=[],outputs=[])\n",
    "demo.launch(debug=True)"
   ]
  }
 ],
 "metadata": {
  "kernelspec": {
   "display_name": "Python 3",
   "language": "python",
   "name": "python3"
  },
  "language_info": {
   "codemirror_mode": {
    "name": "ipython",
    "version": 3
   },
   "file_extension": ".py",
   "mimetype": "text/x-python",
   "name": "python",
   "nbconvert_exporter": "python",
   "pygments_lexer": "ipython3",
   "version": "3.12.5"
  }
 },
 "nbformat": 4,
 "nbformat_minor": 2
}
